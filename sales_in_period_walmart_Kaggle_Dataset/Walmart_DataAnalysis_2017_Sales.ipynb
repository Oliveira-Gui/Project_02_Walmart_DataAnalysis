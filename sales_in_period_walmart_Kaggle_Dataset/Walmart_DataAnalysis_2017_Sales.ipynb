{
 "cells": [
  {
   "cell_type": "markdown",
   "id": "3ae5b83d",
   "metadata": {},
   "source": [
    "# 0.Introduction\n",
    "\n",
    "<br>\n",
    "\n",
    "The database used in this analysis was taken from the [Kaggle](https://www.kaggle.com/) website.\n",
    "\n",
    "<br>\n",
    "\n",
    "The following analysis was carried out on the database called [\"sales in period walmart\"](https://www.kaggle.com/datasets/willianoliveiragibin/sales-in-period-walmart?select=_5wuCXmjSp25ws6zPYB8Rg_462096727ec040c1b1a5c9ab5397acf1_Inventory.csv), in order to understand the sales made by year, item, and store, to find out if there are, and what are the differences between seasons, locations, or products sold.\n",
    "\n",
    "<br>\n",
    "\n",
    "## index\n",
    "\n",
    "1. Importing Pandas\n",
    "2. EDA\n",
    "3. Data Cleaning\n",
    "4. Transforming Variables\n",
    "5. Creating hypotheses\n",
    "6. Combining variables for analysis"
   ]
  },
  {
   "cell_type": "markdown",
   "id": "80f46a44",
   "metadata": {},
   "source": [
    "# 1.Importing Pandas"
   ]
  },
  {
   "cell_type": "code",
   "execution_count": 2,
   "id": "d10ec835",
   "metadata": {},
   "outputs": [],
   "source": [
    "import pandas as pd"
   ]
  },
  {
   "cell_type": "markdown",
   "id": "641e9106",
   "metadata": {},
   "source": [
    "#### 1.1 Reading Wallmart's monthly sales csv file"
   ]
  },
  {
   "cell_type": "code",
   "execution_count": 3,
   "id": "a4b6e291",
   "metadata": {
    "collapsed": true
   },
   "outputs": [
    {
     "data": {
      "text/html": [
       "<div>\n",
       "<style scoped>\n",
       "    .dataframe tbody tr th:only-of-type {\n",
       "        vertical-align: middle;\n",
       "    }\n",
       "\n",
       "    .dataframe tbody tr th {\n",
       "        vertical-align: top;\n",
       "    }\n",
       "\n",
       "    .dataframe thead th {\n",
       "        text-align: right;\n",
       "    }\n",
       "</style>\n",
       "<table border=\"1\" class=\"dataframe\">\n",
       "  <thead>\n",
       "    <tr style=\"text-align: right;\">\n",
       "      <th></th>\n",
       "      <th>SalesId</th>\n",
       "      <th>StoreId</th>\n",
       "      <th>ProductId</th>\n",
       "      <th>Date</th>\n",
       "      <th>UnitPrice</th>\n",
       "      <th>Quantity</th>\n",
       "    </tr>\n",
       "  </thead>\n",
       "  <tbody>\n",
       "    <tr>\n",
       "      <th>0</th>\n",
       "      <td>82319</td>\n",
       "      <td>22726</td>\n",
       "      <td>590</td>\n",
       "      <td>2019-12-02</td>\n",
       "      <td>0.0525</td>\n",
       "      <td>93</td>\n",
       "    </tr>\n",
       "    <tr>\n",
       "      <th>1</th>\n",
       "      <td>15022</td>\n",
       "      <td>21754</td>\n",
       "      <td>390</td>\n",
       "      <td>2017-11-19</td>\n",
       "      <td>5.1100</td>\n",
       "      <td>28</td>\n",
       "    </tr>\n",
       "    <tr>\n",
       "      <th>2</th>\n",
       "      <td>11624</td>\n",
       "      <td>71053</td>\n",
       "      <td>883</td>\n",
       "      <td>2020-07-13</td>\n",
       "      <td>7.3675</td>\n",
       "      <td>33</td>\n",
       "    </tr>\n",
       "    <tr>\n",
       "      <th>3</th>\n",
       "      <td>63101</td>\n",
       "      <td>22914</td>\n",
       "      <td>658</td>\n",
       "      <td>2019-05-12</td>\n",
       "      <td>2.0825</td>\n",
       "      <td>76</td>\n",
       "    </tr>\n",
       "    <tr>\n",
       "      <th>4</th>\n",
       "      <td>29702</td>\n",
       "      <td>22623</td>\n",
       "      <td>632</td>\n",
       "      <td>2020-07-20</td>\n",
       "      <td>0.6475</td>\n",
       "      <td>8</td>\n",
       "    </tr>\n",
       "    <tr>\n",
       "      <th>...</th>\n",
       "      <td>...</td>\n",
       "      <td>...</td>\n",
       "      <td>...</td>\n",
       "      <td>...</td>\n",
       "      <td>...</td>\n",
       "      <td>...</td>\n",
       "    </tr>\n",
       "    <tr>\n",
       "      <th>199995</th>\n",
       "      <td>57660</td>\n",
       "      <td>85123</td>\n",
       "      <td>682</td>\n",
       "      <td>2019-07-01</td>\n",
       "      <td>4.4625</td>\n",
       "      <td>75</td>\n",
       "    </tr>\n",
       "    <tr>\n",
       "      <th>199996</th>\n",
       "      <td>18783</td>\n",
       "      <td>22727</td>\n",
       "      <td>656</td>\n",
       "      <td>2017-04-18</td>\n",
       "      <td>1.6800</td>\n",
       "      <td>30</td>\n",
       "    </tr>\n",
       "    <tr>\n",
       "      <th>199997</th>\n",
       "      <td>25064</td>\n",
       "      <td>22912</td>\n",
       "      <td>831</td>\n",
       "      <td>2019-06-10</td>\n",
       "      <td>2.5025</td>\n",
       "      <td>60</td>\n",
       "    </tr>\n",
       "    <tr>\n",
       "      <th>199998</th>\n",
       "      <td>43683</td>\n",
       "      <td>22622</td>\n",
       "      <td>902</td>\n",
       "      <td>2018-08-06</td>\n",
       "      <td>3.2025</td>\n",
       "      <td>98</td>\n",
       "    </tr>\n",
       "    <tr>\n",
       "      <th>199999</th>\n",
       "      <td>44211</td>\n",
       "      <td>22749</td>\n",
       "      <td>775</td>\n",
       "      <td>2018-06-22</td>\n",
       "      <td>1.8550</td>\n",
       "      <td>32</td>\n",
       "    </tr>\n",
       "  </tbody>\n",
       "</table>\n",
       "<p>200000 rows × 6 columns</p>\n",
       "</div>"
      ],
      "text/plain": [
       "        SalesId  StoreId  ProductId        Date  UnitPrice  Quantity\n",
       "0         82319    22726        590  2019-12-02     0.0525        93\n",
       "1         15022    21754        390  2017-11-19     5.1100        28\n",
       "2         11624    71053        883  2020-07-13     7.3675        33\n",
       "3         63101    22914        658  2019-05-12     2.0825        76\n",
       "4         29702    22623        632  2020-07-20     0.6475         8\n",
       "...         ...      ...        ...         ...        ...       ...\n",
       "199995    57660    85123        682  2019-07-01     4.4625        75\n",
       "199996    18783    22727        656  2017-04-18     1.6800        30\n",
       "199997    25064    22912        831  2019-06-10     2.5025        60\n",
       "199998    43683    22622        902  2018-08-06     3.2025        98\n",
       "199999    44211    22749        775  2018-06-22     1.8550        32\n",
       "\n",
       "[200000 rows x 6 columns]"
      ]
     },
     "execution_count": 3,
     "metadata": {},
     "output_type": "execute_result"
    }
   ],
   "source": [
    "pd.read_csv('Monthly_Sales_2017_2020.csv')"
   ]
  },
  {
   "cell_type": "markdown",
   "id": "c27bf7d4",
   "metadata": {},
   "source": [
    "#### 1.2 Creating a variable to store the database"
   ]
  },
  {
   "cell_type": "code",
   "execution_count": 21,
   "id": "795adf29",
   "metadata": {},
   "outputs": [],
   "source": [
    "walmart_sales = pd.read_csv('Monthly_Sales_2017_2020.csv')"
   ]
  },
  {
   "cell_type": "markdown",
   "id": "369ef632",
   "metadata": {},
   "source": [
    "# 2.Exploratory Data Analysis(EDA)"
   ]
  },
  {
   "cell_type": "markdown",
   "id": "c41989a7",
   "metadata": {},
   "source": [
    "#### 2.1 looking at the first and last 5 lines"
   ]
  },
  {
   "cell_type": "code",
   "execution_count": 22,
   "id": "17e740da",
   "metadata": {},
   "outputs": [
    {
     "data": {
      "text/html": [
       "<div>\n",
       "<style scoped>\n",
       "    .dataframe tbody tr th:only-of-type {\n",
       "        vertical-align: middle;\n",
       "    }\n",
       "\n",
       "    .dataframe tbody tr th {\n",
       "        vertical-align: top;\n",
       "    }\n",
       "\n",
       "    .dataframe thead th {\n",
       "        text-align: right;\n",
       "    }\n",
       "</style>\n",
       "<table border=\"1\" class=\"dataframe\">\n",
       "  <thead>\n",
       "    <tr style=\"text-align: right;\">\n",
       "      <th></th>\n",
       "      <th>SalesId</th>\n",
       "      <th>StoreId</th>\n",
       "      <th>ProductId</th>\n",
       "      <th>Date</th>\n",
       "      <th>UnitPrice</th>\n",
       "      <th>Quantity</th>\n",
       "    </tr>\n",
       "  </thead>\n",
       "  <tbody>\n",
       "    <tr>\n",
       "      <th>0</th>\n",
       "      <td>82319</td>\n",
       "      <td>22726</td>\n",
       "      <td>590</td>\n",
       "      <td>2019-12-02</td>\n",
       "      <td>0.0525</td>\n",
       "      <td>93</td>\n",
       "    </tr>\n",
       "    <tr>\n",
       "      <th>1</th>\n",
       "      <td>15022</td>\n",
       "      <td>21754</td>\n",
       "      <td>390</td>\n",
       "      <td>2017-11-19</td>\n",
       "      <td>5.1100</td>\n",
       "      <td>28</td>\n",
       "    </tr>\n",
       "    <tr>\n",
       "      <th>2</th>\n",
       "      <td>11624</td>\n",
       "      <td>71053</td>\n",
       "      <td>883</td>\n",
       "      <td>2020-07-13</td>\n",
       "      <td>7.3675</td>\n",
       "      <td>33</td>\n",
       "    </tr>\n",
       "    <tr>\n",
       "      <th>3</th>\n",
       "      <td>63101</td>\n",
       "      <td>22914</td>\n",
       "      <td>658</td>\n",
       "      <td>2019-05-12</td>\n",
       "      <td>2.0825</td>\n",
       "      <td>76</td>\n",
       "    </tr>\n",
       "    <tr>\n",
       "      <th>4</th>\n",
       "      <td>29702</td>\n",
       "      <td>22623</td>\n",
       "      <td>632</td>\n",
       "      <td>2020-07-20</td>\n",
       "      <td>0.6475</td>\n",
       "      <td>8</td>\n",
       "    </tr>\n",
       "    <tr>\n",
       "      <th>...</th>\n",
       "      <td>...</td>\n",
       "      <td>...</td>\n",
       "      <td>...</td>\n",
       "      <td>...</td>\n",
       "      <td>...</td>\n",
       "      <td>...</td>\n",
       "    </tr>\n",
       "    <tr>\n",
       "      <th>199995</th>\n",
       "      <td>57660</td>\n",
       "      <td>85123</td>\n",
       "      <td>682</td>\n",
       "      <td>2019-07-01</td>\n",
       "      <td>4.4625</td>\n",
       "      <td>75</td>\n",
       "    </tr>\n",
       "    <tr>\n",
       "      <th>199996</th>\n",
       "      <td>18783</td>\n",
       "      <td>22727</td>\n",
       "      <td>656</td>\n",
       "      <td>2017-04-18</td>\n",
       "      <td>1.6800</td>\n",
       "      <td>30</td>\n",
       "    </tr>\n",
       "    <tr>\n",
       "      <th>199997</th>\n",
       "      <td>25064</td>\n",
       "      <td>22912</td>\n",
       "      <td>831</td>\n",
       "      <td>2019-06-10</td>\n",
       "      <td>2.5025</td>\n",
       "      <td>60</td>\n",
       "    </tr>\n",
       "    <tr>\n",
       "      <th>199998</th>\n",
       "      <td>43683</td>\n",
       "      <td>22622</td>\n",
       "      <td>902</td>\n",
       "      <td>2018-08-06</td>\n",
       "      <td>3.2025</td>\n",
       "      <td>98</td>\n",
       "    </tr>\n",
       "    <tr>\n",
       "      <th>199999</th>\n",
       "      <td>44211</td>\n",
       "      <td>22749</td>\n",
       "      <td>775</td>\n",
       "      <td>2018-06-22</td>\n",
       "      <td>1.8550</td>\n",
       "      <td>32</td>\n",
       "    </tr>\n",
       "  </tbody>\n",
       "</table>\n",
       "<p>200000 rows × 6 columns</p>\n",
       "</div>"
      ],
      "text/plain": [
       "        SalesId  StoreId  ProductId        Date  UnitPrice  Quantity\n",
       "0         82319    22726        590  2019-12-02     0.0525        93\n",
       "1         15022    21754        390  2017-11-19     5.1100        28\n",
       "2         11624    71053        883  2020-07-13     7.3675        33\n",
       "3         63101    22914        658  2019-05-12     2.0825        76\n",
       "4         29702    22623        632  2020-07-20     0.6475         8\n",
       "...         ...      ...        ...         ...        ...       ...\n",
       "199995    57660    85123        682  2019-07-01     4.4625        75\n",
       "199996    18783    22727        656  2017-04-18     1.6800        30\n",
       "199997    25064    22912        831  2019-06-10     2.5025        60\n",
       "199998    43683    22622        902  2018-08-06     3.2025        98\n",
       "199999    44211    22749        775  2018-06-22     1.8550        32\n",
       "\n",
       "[200000 rows x 6 columns]"
      ]
     },
     "metadata": {},
     "output_type": "display_data"
    }
   ],
   "source": [
    "display(walmart_sales)"
   ]
  },
  {
   "cell_type": "markdown",
   "id": "8fb63ec6",
   "metadata": {},
   "source": [
    "#### 2.2 Statistical information on the product's unit price column (UnitPrice)"
   ]
  },
  {
   "cell_type": "code",
   "execution_count": 26,
   "id": "1b5e4803",
   "metadata": {},
   "outputs": [
    {
     "data": {
      "text/plain": [
       "count    200000.000000\n",
       "mean          3.313406\n",
       "std           2.812360\n",
       "min           0.017500\n",
       "25%           1.277500\n",
       "50%           2.765000\n",
       "75%           4.287500\n",
       "max          21.157500\n",
       "Name: UnitPrice, dtype: float64"
      ]
     },
     "execution_count": 26,
     "metadata": {},
     "output_type": "execute_result"
    }
   ],
   "source": [
    "walmart_sales.UnitPrice.describe()"
   ]
  },
  {
   "cell_type": "markdown",
   "id": "6129dcca",
   "metadata": {},
   "source": [
    "#### 2.3 Statistical information on the product quantity sold column (Quantity)"
   ]
  },
  {
   "cell_type": "code",
   "execution_count": 27,
   "id": "46d6d71b",
   "metadata": {},
   "outputs": [
    {
     "data": {
      "text/plain": [
       "count    200000.000000\n",
       "mean         50.383910\n",
       "std          28.870702\n",
       "min           1.000000\n",
       "25%          25.000000\n",
       "50%          50.000000\n",
       "75%          75.000000\n",
       "max         100.000000\n",
       "Name: Quantity, dtype: float64"
      ]
     },
     "execution_count": 27,
     "metadata": {},
     "output_type": "execute_result"
    }
   ],
   "source": [
    "walmart_sales.Quantity.describe()"
   ]
  },
  {
   "cell_type": "markdown",
   "id": "f8b62bc9",
   "metadata": {},
   "source": [
    "#### 2.4 Database size"
   ]
  },
  {
   "cell_type": "code",
   "execution_count": 28,
   "id": "26ea08e0",
   "metadata": {},
   "outputs": [
    {
     "data": {
      "text/plain": [
       "(200000, 6)"
      ]
     },
     "execution_count": 28,
     "metadata": {},
     "output_type": "execute_result"
    }
   ],
   "source": [
    "all_sales.shape"
   ]
  },
  {
   "cell_type": "markdown",
   "id": "9c4f7382",
   "metadata": {},
   "source": [
    "# 3.Data Cleaning"
   ]
  },
  {
   "cell_type": "markdown",
   "id": "b2202839",
   "metadata": {},
   "source": [
    "#### 3.1 Checking information\n",
    "\n",
    "<br>\n",
    "\n",
    "By checking, we can see that we don't have any null information, and we can also see that the 'Date' variable is not in datetime format."
   ]
  },
  {
   "cell_type": "code",
   "execution_count": 23,
   "id": "0ffcb9cd",
   "metadata": {},
   "outputs": [
    {
     "name": "stdout",
     "output_type": "stream",
     "text": [
      "<class 'pandas.core.frame.DataFrame'>\n",
      "RangeIndex: 200000 entries, 0 to 199999\n",
      "Data columns (total 6 columns):\n",
      " #   Column     Non-Null Count   Dtype  \n",
      "---  ------     --------------   -----  \n",
      " 0   SalesId    200000 non-null  int64  \n",
      " 1   StoreId    200000 non-null  int64  \n",
      " 2   ProductId  200000 non-null  int64  \n",
      " 3   Date       200000 non-null  object \n",
      " 4   UnitPrice  200000 non-null  float64\n",
      " 5   Quantity   200000 non-null  int64  \n",
      "dtypes: float64(1), int64(4), object(1)\n",
      "memory usage: 9.2+ MB\n"
     ]
    }
   ],
   "source": [
    "walmart_sales.info()"
   ]
  },
  {
   "cell_type": "markdown",
   "id": "5a3ea61c",
   "metadata": {},
   "source": [
    "#### 3.2 Checking for duplicates"
   ]
  },
  {
   "cell_type": "code",
   "execution_count": 24,
   "id": "99b937d4",
   "metadata": {},
   "outputs": [
    {
     "data": {
      "text/plain": [
       "False"
      ]
     },
     "execution_count": 24,
     "metadata": {},
     "output_type": "execute_result"
    }
   ],
   "source": [
    "walmart_sales.duplicated().any()"
   ]
  },
  {
   "cell_type": "markdown",
   "id": "1f13ff44",
   "metadata": {},
   "source": [
    "# 4.Transforming Variables"
   ]
  },
  {
   "cell_type": "markdown",
   "id": "be7e07e0",
   "metadata": {},
   "source": [
    "#### 4.1 Converting the \"Date\" column to datetime format"
   ]
  },
  {
   "cell_type": "code",
   "execution_count": 42,
   "id": "7a32c318",
   "metadata": {},
   "outputs": [],
   "source": [
    "walmart_sales['Date'] = pd.to_datetime(walmart_sales['Date'])"
   ]
  },
  {
   "cell_type": "markdown",
   "id": "baf76c16",
   "metadata": {},
   "source": [
    "#### 4.2 Viewing the data type again"
   ]
  },
  {
   "cell_type": "code",
   "execution_count": 37,
   "id": "10d5c352",
   "metadata": {
    "scrolled": true
   },
   "outputs": [
    {
     "name": "stdout",
     "output_type": "stream",
     "text": [
      "<class 'pandas.core.frame.DataFrame'>\n",
      "Int64Index: 200000 entries, 11007 to 29602\n",
      "Data columns (total 6 columns):\n",
      " #   Column     Non-Null Count   Dtype         \n",
      "---  ------     --------------   -----         \n",
      " 0   SalesId    200000 non-null  int64         \n",
      " 1   StoreId    200000 non-null  int64         \n",
      " 2   ProductId  200000 non-null  int64         \n",
      " 3   Date       200000 non-null  datetime64[ns]\n",
      " 4   UnitPrice  200000 non-null  float64       \n",
      " 5   Quantity   200000 non-null  int64         \n",
      "dtypes: datetime64[ns](1), float64(1), int64(4)\n",
      "memory usage: 10.7 MB\n"
     ]
    }
   ],
   "source": [
    "walmart_sales.info()"
   ]
  },
  {
   "cell_type": "markdown",
   "id": "999c03d4",
   "metadata": {},
   "source": [
    "#### 4.3 Sorting the \"Date\" column in ascending order"
   ]
  },
  {
   "cell_type": "code",
   "execution_count": 43,
   "id": "2fa1c28c",
   "metadata": {},
   "outputs": [
    {
     "data": {
      "text/html": [
       "<div>\n",
       "<style scoped>\n",
       "    .dataframe tbody tr th:only-of-type {\n",
       "        vertical-align: middle;\n",
       "    }\n",
       "\n",
       "    .dataframe tbody tr th {\n",
       "        vertical-align: top;\n",
       "    }\n",
       "\n",
       "    .dataframe thead th {\n",
       "        text-align: right;\n",
       "    }\n",
       "</style>\n",
       "<table border=\"1\" class=\"dataframe\">\n",
       "  <thead>\n",
       "    <tr style=\"text-align: right;\">\n",
       "      <th></th>\n",
       "      <th>SalesId</th>\n",
       "      <th>StoreId</th>\n",
       "      <th>ProductId</th>\n",
       "      <th>Date</th>\n",
       "      <th>UnitPrice</th>\n",
       "      <th>Quantity</th>\n",
       "    </tr>\n",
       "  </thead>\n",
       "  <tbody>\n",
       "    <tr>\n",
       "      <th>11007</th>\n",
       "      <td>17024</td>\n",
       "      <td>21777</td>\n",
       "      <td>985</td>\n",
       "      <td>2017-01-01</td>\n",
       "      <td>2.6775</td>\n",
       "      <td>99</td>\n",
       "    </tr>\n",
       "    <tr>\n",
       "      <th>40438</th>\n",
       "      <td>57773</td>\n",
       "      <td>22632</td>\n",
       "      <td>839</td>\n",
       "      <td>2017-01-01</td>\n",
       "      <td>2.1700</td>\n",
       "      <td>52</td>\n",
       "    </tr>\n",
       "    <tr>\n",
       "      <th>176084</th>\n",
       "      <td>56186</td>\n",
       "      <td>21035</td>\n",
       "      <td>161</td>\n",
       "      <td>2017-01-01</td>\n",
       "      <td>2.2925</td>\n",
       "      <td>3</td>\n",
       "    </tr>\n",
       "    <tr>\n",
       "      <th>155090</th>\n",
       "      <td>84975</td>\n",
       "      <td>21755</td>\n",
       "      <td>9</td>\n",
       "      <td>2017-01-01</td>\n",
       "      <td>4.0775</td>\n",
       "      <td>87</td>\n",
       "    </tr>\n",
       "    <tr>\n",
       "      <th>56662</th>\n",
       "      <td>45056</td>\n",
       "      <td>22749</td>\n",
       "      <td>609</td>\n",
       "      <td>2017-01-01</td>\n",
       "      <td>6.0900</td>\n",
       "      <td>24</td>\n",
       "    </tr>\n",
       "  </tbody>\n",
       "</table>\n",
       "</div>"
      ],
      "text/plain": [
       "        SalesId  StoreId  ProductId       Date  UnitPrice  Quantity\n",
       "11007     17024    21777        985 2017-01-01     2.6775        99\n",
       "40438     57773    22632        839 2017-01-01     2.1700        52\n",
       "176084    56186    21035        161 2017-01-01     2.2925         3\n",
       "155090    84975    21755          9 2017-01-01     4.0775        87\n",
       "56662     45056    22749        609 2017-01-01     6.0900        24"
      ]
     },
     "execution_count": 43,
     "metadata": {},
     "output_type": "execute_result"
    }
   ],
   "source": [
    "walmart_sales = walmart_sales.sort_values('Date')\n",
    "walmart_sales.head()"
   ]
  },
  {
   "cell_type": "markdown",
   "id": "ff64df83",
   "metadata": {},
   "source": [
    "#### 4.4 Filtering the database by \"Date\"\n",
    "\n",
    "<br>\n",
    "\n",
    "The database created (walmart_sales) contains sales from 2017 to 2020.\n",
    "This complete database has 200,000 rows, which slows down analysis due to the amount of data. \n",
    "So I separated the 2017 sales into a new database (sales_2017), with 49,910 rows, thus making the database smaller and consequently making the analysis more targeted and faster."
   ]
  },
  {
   "cell_type": "markdown",
   "id": "8bfb669a",
   "metadata": {},
   "source": [
    "#### 4.5 Creating a variable to store 2017 sales data"
   ]
  },
  {
   "cell_type": "code",
   "execution_count": 44,
   "id": "2aa9e4c3",
   "metadata": {},
   "outputs": [],
   "source": [
    "sales_2017 = walmart_sales[walmart_sales['Date'].dt.year == 2017]"
   ]
  },
  {
   "cell_type": "code",
   "execution_count": 209,
   "id": "e7137c5b",
   "metadata": {},
   "outputs": [],
   "source": [
    "# sales_2017 = all_sales[all_sales['Date'].dt.year == 2017]\n",
    "# sales_2017_jan = all_sales[all_sales['Date'].between('2017-01-01', '2017-01-31')]"
   ]
  },
  {
   "cell_type": "markdown",
   "id": "a33b7090",
   "metadata": {},
   "source": [
    "#### 4.6 Creating the Total Sales 2017 column (Total_Sales)"
   ]
  },
  {
   "cell_type": "code",
   "execution_count": 45,
   "id": "6396e43f",
   "metadata": {},
   "outputs": [
    {
     "name": "stderr",
     "output_type": "stream",
     "text": [
      "C:\\Users\\Guiga\\AppData\\Local\\Temp\\ipykernel_15800\\1651390691.py:1: SettingWithCopyWarning: \n",
      "A value is trying to be set on a copy of a slice from a DataFrame.\n",
      "Try using .loc[row_indexer,col_indexer] = value instead\n",
      "\n",
      "See the caveats in the documentation: https://pandas.pydata.org/pandas-docs/stable/user_guide/indexing.html#returning-a-view-versus-a-copy\n",
      "  sales_2017['Total_Sales'] = sales_2017['UnitPrice'] * sales_2017['Quantity']\n"
     ]
    },
    {
     "data": {
      "text/html": [
       "<div>\n",
       "<style scoped>\n",
       "    .dataframe tbody tr th:only-of-type {\n",
       "        vertical-align: middle;\n",
       "    }\n",
       "\n",
       "    .dataframe tbody tr th {\n",
       "        vertical-align: top;\n",
       "    }\n",
       "\n",
       "    .dataframe thead th {\n",
       "        text-align: right;\n",
       "    }\n",
       "</style>\n",
       "<table border=\"1\" class=\"dataframe\">\n",
       "  <thead>\n",
       "    <tr style=\"text-align: right;\">\n",
       "      <th></th>\n",
       "      <th>SalesId</th>\n",
       "      <th>StoreId</th>\n",
       "      <th>ProductId</th>\n",
       "      <th>Date</th>\n",
       "      <th>UnitPrice</th>\n",
       "      <th>Quantity</th>\n",
       "      <th>Total_Sales</th>\n",
       "    </tr>\n",
       "  </thead>\n",
       "  <tbody>\n",
       "    <tr>\n",
       "      <th>11007</th>\n",
       "      <td>17024</td>\n",
       "      <td>21777</td>\n",
       "      <td>985</td>\n",
       "      <td>2017-01-01</td>\n",
       "      <td>2.6775</td>\n",
       "      <td>99</td>\n",
       "      <td>265.0725</td>\n",
       "    </tr>\n",
       "    <tr>\n",
       "      <th>40438</th>\n",
       "      <td>57773</td>\n",
       "      <td>22632</td>\n",
       "      <td>839</td>\n",
       "      <td>2017-01-01</td>\n",
       "      <td>2.1700</td>\n",
       "      <td>52</td>\n",
       "      <td>112.8400</td>\n",
       "    </tr>\n",
       "    <tr>\n",
       "      <th>176084</th>\n",
       "      <td>56186</td>\n",
       "      <td>21035</td>\n",
       "      <td>161</td>\n",
       "      <td>2017-01-01</td>\n",
       "      <td>2.2925</td>\n",
       "      <td>3</td>\n",
       "      <td>6.8775</td>\n",
       "    </tr>\n",
       "    <tr>\n",
       "      <th>155090</th>\n",
       "      <td>84975</td>\n",
       "      <td>21755</td>\n",
       "      <td>9</td>\n",
       "      <td>2017-01-01</td>\n",
       "      <td>4.0775</td>\n",
       "      <td>87</td>\n",
       "      <td>354.7425</td>\n",
       "    </tr>\n",
       "    <tr>\n",
       "      <th>56662</th>\n",
       "      <td>45056</td>\n",
       "      <td>22749</td>\n",
       "      <td>609</td>\n",
       "      <td>2017-01-01</td>\n",
       "      <td>6.0900</td>\n",
       "      <td>24</td>\n",
       "      <td>146.1600</td>\n",
       "    </tr>\n",
       "  </tbody>\n",
       "</table>\n",
       "</div>"
      ],
      "text/plain": [
       "        SalesId  StoreId  ProductId       Date  UnitPrice  Quantity  \\\n",
       "11007     17024    21777        985 2017-01-01     2.6775        99   \n",
       "40438     57773    22632        839 2017-01-01     2.1700        52   \n",
       "176084    56186    21035        161 2017-01-01     2.2925         3   \n",
       "155090    84975    21755          9 2017-01-01     4.0775        87   \n",
       "56662     45056    22749        609 2017-01-01     6.0900        24   \n",
       "\n",
       "        Total_Sales  \n",
       "11007      265.0725  \n",
       "40438      112.8400  \n",
       "176084       6.8775  \n",
       "155090     354.7425  \n",
       "56662      146.1600  "
      ]
     },
     "execution_count": 45,
     "metadata": {},
     "output_type": "execute_result"
    }
   ],
   "source": [
    "sales_2017['Total_Sales'] = sales_2017['UnitPrice'] * sales_2017['Quantity']\n",
    "sales_2017.head()"
   ]
  },
  {
   "cell_type": "markdown",
   "id": "b86ca0f7",
   "metadata": {},
   "source": [
    "# 5.Creating hypotheses\n",
    "\n",
    "1. Was there a month/quarter/semester of the year that sold more?\n",
    "    - [ ] If so, what was the difference in sales?\n",
    "    - [ ] And the reason for this difference?\n",
    "    - [x] If not, what is the average sales and what is the difference between the period that sold the most and the least?\n",
    "    - [x] Is it a big difference or are they all average?\n",
    "2. Was there a product that sold more or made more profit?\n",
    "    - [x] What are the cheapest products?\n",
    "    - [x] What are the most expensive products?\n",
    "    - [x] Which product made the most profit?\n",
    "    - [x] Which product made the least profit?\n",
    "    - [x] Which product sold the most?\n",
    "    - [x] Which product sold the least?\n",
    "3. Was there a store that sold more or made more profit?\n",
    "    - [ ] Which store sold the most?\n",
    "    - [ ] Which store sold the least?\n",
    "    - [ ] Which store made the most profit?\n",
    "    - [ ] Which store made the least profit?"
   ]
  },
  {
   "cell_type": "markdown",
   "id": "9341a591",
   "metadata": {},
   "source": [
    "# 6.Combining variables for analysis"
   ]
  },
  {
   "cell_type": "markdown",
   "id": "80a19a54",
   "metadata": {},
   "source": [
    "#### 6.1 Grouping sales by Month in 2017"
   ]
  },
  {
   "cell_type": "code",
   "execution_count": 46,
   "id": "69761bd9",
   "metadata": {
    "scrolled": true
   },
   "outputs": [
    {
     "data": {
      "text/html": [
       "<div>\n",
       "<style scoped>\n",
       "    .dataframe tbody tr th:only-of-type {\n",
       "        vertical-align: middle;\n",
       "    }\n",
       "\n",
       "    .dataframe tbody tr th {\n",
       "        vertical-align: top;\n",
       "    }\n",
       "\n",
       "    .dataframe thead th {\n",
       "        text-align: right;\n",
       "    }\n",
       "</style>\n",
       "<table border=\"1\" class=\"dataframe\">\n",
       "  <thead>\n",
       "    <tr style=\"text-align: right;\">\n",
       "      <th></th>\n",
       "      <th>Total_Sales</th>\n",
       "    </tr>\n",
       "    <tr>\n",
       "      <th>Date</th>\n",
       "      <th></th>\n",
       "    </tr>\n",
       "  </thead>\n",
       "  <tbody>\n",
       "    <tr>\n",
       "      <th>2017-01-31</th>\n",
       "      <td>701304.6600</td>\n",
       "    </tr>\n",
       "    <tr>\n",
       "      <th>2017-02-28</th>\n",
       "      <td>634254.5300</td>\n",
       "    </tr>\n",
       "    <tr>\n",
       "      <th>2017-03-31</th>\n",
       "      <td>721855.8900</td>\n",
       "    </tr>\n",
       "    <tr>\n",
       "      <th>2017-04-30</th>\n",
       "      <td>700876.2425</td>\n",
       "    </tr>\n",
       "    <tr>\n",
       "      <th>2017-05-31</th>\n",
       "      <td>712926.7600</td>\n",
       "    </tr>\n",
       "    <tr>\n",
       "      <th>2017-06-30</th>\n",
       "      <td>690128.0050</td>\n",
       "    </tr>\n",
       "    <tr>\n",
       "      <th>2017-07-31</th>\n",
       "      <td>686223.7900</td>\n",
       "    </tr>\n",
       "    <tr>\n",
       "      <th>2017-08-31</th>\n",
       "      <td>686763.3850</td>\n",
       "    </tr>\n",
       "    <tr>\n",
       "      <th>2017-09-30</th>\n",
       "      <td>700209.5975</td>\n",
       "    </tr>\n",
       "    <tr>\n",
       "      <th>2017-10-31</th>\n",
       "      <td>710114.0725</td>\n",
       "    </tr>\n",
       "    <tr>\n",
       "      <th>2017-11-30</th>\n",
       "      <td>693119.1050</td>\n",
       "    </tr>\n",
       "    <tr>\n",
       "      <th>2017-12-31</th>\n",
       "      <td>727249.4075</td>\n",
       "    </tr>\n",
       "  </tbody>\n",
       "</table>\n",
       "</div>"
      ],
      "text/plain": [
       "            Total_Sales\n",
       "Date                   \n",
       "2017-01-31  701304.6600\n",
       "2017-02-28  634254.5300\n",
       "2017-03-31  721855.8900\n",
       "2017-04-30  700876.2425\n",
       "2017-05-31  712926.7600\n",
       "2017-06-30  690128.0050\n",
       "2017-07-31  686223.7900\n",
       "2017-08-31  686763.3850\n",
       "2017-09-30  700209.5975\n",
       "2017-10-31  710114.0725\n",
       "2017-11-30  693119.1050\n",
       "2017-12-31  727249.4075"
      ]
     },
     "metadata": {},
     "output_type": "display_data"
    }
   ],
   "source": [
    "monthly_sales_2017 = sales_2017.groupby(pd.Grouper(key='Date', freq='M')).agg({'Total_Sales': 'sum'})\n",
    "display(monthly_sales_2017)"
   ]
  },
  {
   "cell_type": "markdown",
   "id": "fef9320d",
   "metadata": {},
   "source": [
    "Analyzing monthly sales for the year 2017, we can see that every month has a well-balanced total of sales on average.\n",
    "\n",
    "1. The month with the lowest sales value in 2017 is February with a value equal to 634254.53.\n",
    "2. And the month with the highest sales value in 2017 is December with a value equal to 727249.40."
   ]
  },
  {
   "cell_type": "markdown",
   "id": "3964b70c",
   "metadata": {},
   "source": [
    "#### 6.2 Discovering the cheapest and most expensive product of 2017"
   ]
  },
  {
   "cell_type": "code",
   "execution_count": 55,
   "id": "d53af286",
   "metadata": {},
   "outputs": [
    {
     "data": {
      "text/html": [
       "<div>\n",
       "<style scoped>\n",
       "    .dataframe tbody tr th:only-of-type {\n",
       "        vertical-align: middle;\n",
       "    }\n",
       "\n",
       "    .dataframe tbody tr th {\n",
       "        vertical-align: top;\n",
       "    }\n",
       "\n",
       "    .dataframe thead th {\n",
       "        text-align: right;\n",
       "    }\n",
       "</style>\n",
       "<table border=\"1\" class=\"dataframe\">\n",
       "  <thead>\n",
       "    <tr style=\"text-align: right;\">\n",
       "      <th></th>\n",
       "      <th>SalesId</th>\n",
       "      <th>StoreId</th>\n",
       "      <th>ProductId</th>\n",
       "      <th>Date</th>\n",
       "      <th>UnitPrice</th>\n",
       "      <th>Quantity</th>\n",
       "      <th>Total_Sales</th>\n",
       "    </tr>\n",
       "  </thead>\n",
       "  <tbody>\n",
       "    <tr>\n",
       "      <th>11007</th>\n",
       "      <td>17024</td>\n",
       "      <td>21777</td>\n",
       "      <td>985</td>\n",
       "      <td>2017-01-01</td>\n",
       "      <td>2.6775</td>\n",
       "      <td>99</td>\n",
       "      <td>265.0725</td>\n",
       "    </tr>\n",
       "    <tr>\n",
       "      <th>40438</th>\n",
       "      <td>57773</td>\n",
       "      <td>22632</td>\n",
       "      <td>839</td>\n",
       "      <td>2017-01-01</td>\n",
       "      <td>2.1700</td>\n",
       "      <td>52</td>\n",
       "      <td>112.8400</td>\n",
       "    </tr>\n",
       "    <tr>\n",
       "      <th>176084</th>\n",
       "      <td>56186</td>\n",
       "      <td>21035</td>\n",
       "      <td>161</td>\n",
       "      <td>2017-01-01</td>\n",
       "      <td>2.2925</td>\n",
       "      <td>3</td>\n",
       "      <td>6.8775</td>\n",
       "    </tr>\n",
       "    <tr>\n",
       "      <th>155090</th>\n",
       "      <td>84975</td>\n",
       "      <td>21755</td>\n",
       "      <td>9</td>\n",
       "      <td>2017-01-01</td>\n",
       "      <td>4.0775</td>\n",
       "      <td>87</td>\n",
       "      <td>354.7425</td>\n",
       "    </tr>\n",
       "    <tr>\n",
       "      <th>56662</th>\n",
       "      <td>45056</td>\n",
       "      <td>22749</td>\n",
       "      <td>609</td>\n",
       "      <td>2017-01-01</td>\n",
       "      <td>6.0900</td>\n",
       "      <td>24</td>\n",
       "      <td>146.1600</td>\n",
       "    </tr>\n",
       "  </tbody>\n",
       "</table>\n",
       "</div>"
      ],
      "text/plain": [
       "        SalesId  StoreId  ProductId       Date  UnitPrice  Quantity  \\\n",
       "11007     17024    21777        985 2017-01-01     2.6775        99   \n",
       "40438     57773    22632        839 2017-01-01     2.1700        52   \n",
       "176084    56186    21035        161 2017-01-01     2.2925         3   \n",
       "155090    84975    21755          9 2017-01-01     4.0775        87   \n",
       "56662     45056    22749        609 2017-01-01     6.0900        24   \n",
       "\n",
       "        Total_Sales  \n",
       "11007      265.0725  \n",
       "40438      112.8400  \n",
       "176084       6.8775  \n",
       "155090     354.7425  \n",
       "56662      146.1600  "
      ]
     },
     "execution_count": 55,
     "metadata": {},
     "output_type": "execute_result"
    }
   ],
   "source": [
    "sales_2017.head()"
   ]
  },
  {
   "cell_type": "markdown",
   "id": "1801170f",
   "metadata": {},
   "source": [
    "#### Sorting by UnitPrice"
   ]
  },
  {
   "cell_type": "code",
   "execution_count": 97,
   "id": "24a7d63f",
   "metadata": {},
   "outputs": [],
   "source": [
    "sales_2017_up = sales_2017.sort_values('UnitPrice')"
   ]
  },
  {
   "cell_type": "code",
   "execution_count": 98,
   "id": "8cd5a8da",
   "metadata": {},
   "outputs": [
    {
     "data": {
      "text/html": [
       "<div>\n",
       "<style scoped>\n",
       "    .dataframe tbody tr th:only-of-type {\n",
       "        vertical-align: middle;\n",
       "    }\n",
       "\n",
       "    .dataframe tbody tr th {\n",
       "        vertical-align: top;\n",
       "    }\n",
       "\n",
       "    .dataframe thead th {\n",
       "        text-align: right;\n",
       "    }\n",
       "</style>\n",
       "<table border=\"1\" class=\"dataframe\">\n",
       "  <thead>\n",
       "    <tr style=\"text-align: right;\">\n",
       "      <th></th>\n",
       "      <th>SalesId</th>\n",
       "      <th>StoreId</th>\n",
       "      <th>ProductId</th>\n",
       "      <th>Date</th>\n",
       "      <th>UnitPrice</th>\n",
       "      <th>Quantity</th>\n",
       "      <th>Total_Sales</th>\n",
       "    </tr>\n",
       "  </thead>\n",
       "  <tbody>\n",
       "    <tr>\n",
       "      <th>28384</th>\n",
       "      <td>86812</td>\n",
       "      <td>22310</td>\n",
       "      <td>245</td>\n",
       "      <td>2017-05-16</td>\n",
       "      <td>0.0175</td>\n",
       "      <td>38</td>\n",
       "      <td>0.6650</td>\n",
       "    </tr>\n",
       "    <tr>\n",
       "      <th>60640</th>\n",
       "      <td>22910</td>\n",
       "      <td>22310</td>\n",
       "      <td>245</td>\n",
       "      <td>2017-11-30</td>\n",
       "      <td>0.0175</td>\n",
       "      <td>12</td>\n",
       "      <td>0.2100</td>\n",
       "    </tr>\n",
       "    <tr>\n",
       "      <th>43682</th>\n",
       "      <td>72567</td>\n",
       "      <td>21756</td>\n",
       "      <td>245</td>\n",
       "      <td>2017-05-31</td>\n",
       "      <td>0.0175</td>\n",
       "      <td>2</td>\n",
       "      <td>0.0350</td>\n",
       "    </tr>\n",
       "    <tr>\n",
       "      <th>175054</th>\n",
       "      <td>40319</td>\n",
       "      <td>22912</td>\n",
       "      <td>245</td>\n",
       "      <td>2017-05-13</td>\n",
       "      <td>0.0175</td>\n",
       "      <td>73</td>\n",
       "      <td>1.2775</td>\n",
       "    </tr>\n",
       "    <tr>\n",
       "      <th>157385</th>\n",
       "      <td>29536</td>\n",
       "      <td>22752</td>\n",
       "      <td>245</td>\n",
       "      <td>2017-01-30</td>\n",
       "      <td>0.0175</td>\n",
       "      <td>16</td>\n",
       "      <td>0.2800</td>\n",
       "    </tr>\n",
       "  </tbody>\n",
       "</table>\n",
       "</div>"
      ],
      "text/plain": [
       "        SalesId  StoreId  ProductId       Date  UnitPrice  Quantity  \\\n",
       "28384     86812    22310        245 2017-05-16     0.0175        38   \n",
       "60640     22910    22310        245 2017-11-30     0.0175        12   \n",
       "43682     72567    21756        245 2017-05-31     0.0175         2   \n",
       "175054    40319    22912        245 2017-05-13     0.0175        73   \n",
       "157385    29536    22752        245 2017-01-30     0.0175        16   \n",
       "\n",
       "        Total_Sales  \n",
       "28384        0.6650  \n",
       "60640        0.2100  \n",
       "43682        0.0350  \n",
       "175054       1.2775  \n",
       "157385       0.2800  "
      ]
     },
     "execution_count": 98,
     "metadata": {},
     "output_type": "execute_result"
    }
   ],
   "source": [
    "sales_2017_up.head()"
   ]
  },
  {
   "cell_type": "code",
   "execution_count": 99,
   "id": "4c738bfe",
   "metadata": {},
   "outputs": [
    {
     "data": {
      "text/html": [
       "<div>\n",
       "<style scoped>\n",
       "    .dataframe tbody tr th:only-of-type {\n",
       "        vertical-align: middle;\n",
       "    }\n",
       "\n",
       "    .dataframe tbody tr th {\n",
       "        vertical-align: top;\n",
       "    }\n",
       "\n",
       "    .dataframe thead th {\n",
       "        text-align: right;\n",
       "    }\n",
       "</style>\n",
       "<table border=\"1\" class=\"dataframe\">\n",
       "  <thead>\n",
       "    <tr style=\"text-align: right;\">\n",
       "      <th></th>\n",
       "      <th>ProductId</th>\n",
       "      <th>UnitPrice</th>\n",
       "    </tr>\n",
       "  </thead>\n",
       "  <tbody>\n",
       "    <tr>\n",
       "      <th>28384</th>\n",
       "      <td>245</td>\n",
       "      <td>0.0175</td>\n",
       "    </tr>\n",
       "    <tr>\n",
       "      <th>160555</th>\n",
       "      <td>471</td>\n",
       "      <td>0.0350</td>\n",
       "    </tr>\n",
       "    <tr>\n",
       "      <th>167440</th>\n",
       "      <td>195</td>\n",
       "      <td>0.0350</td>\n",
       "    </tr>\n",
       "    <tr>\n",
       "      <th>158528</th>\n",
       "      <td>988</td>\n",
       "      <td>0.0350</td>\n",
       "    </tr>\n",
       "    <tr>\n",
       "      <th>111784</th>\n",
       "      <td>671</td>\n",
       "      <td>0.0350</td>\n",
       "    </tr>\n",
       "    <tr>\n",
       "      <th>...</th>\n",
       "      <td>...</td>\n",
       "      <td>...</td>\n",
       "    </tr>\n",
       "    <tr>\n",
       "      <th>39834</th>\n",
       "      <td>367</td>\n",
       "      <td>15.5400</td>\n",
       "    </tr>\n",
       "    <tr>\n",
       "      <th>89164</th>\n",
       "      <td>89</td>\n",
       "      <td>16.8350</td>\n",
       "    </tr>\n",
       "    <tr>\n",
       "      <th>108166</th>\n",
       "      <td>117</td>\n",
       "      <td>19.9325</td>\n",
       "    </tr>\n",
       "    <tr>\n",
       "      <th>24412</th>\n",
       "      <td>248</td>\n",
       "      <td>21.0875</td>\n",
       "    </tr>\n",
       "    <tr>\n",
       "      <th>35190</th>\n",
       "      <td>885</td>\n",
       "      <td>21.1575</td>\n",
       "    </tr>\n",
       "  </tbody>\n",
       "</table>\n",
       "<p>1000 rows × 2 columns</p>\n",
       "</div>"
      ],
      "text/plain": [
       "        ProductId  UnitPrice\n",
       "28384         245     0.0175\n",
       "160555        471     0.0350\n",
       "167440        195     0.0350\n",
       "158528        988     0.0350\n",
       "111784        671     0.0350\n",
       "...           ...        ...\n",
       "39834         367    15.5400\n",
       "89164          89    16.8350\n",
       "108166        117    19.9325\n",
       "24412         248    21.0875\n",
       "35190         885    21.1575\n",
       "\n",
       "[1000 rows x 2 columns]"
      ]
     },
     "execution_count": 99,
     "metadata": {},
     "output_type": "execute_result"
    }
   ],
   "source": [
    "unitprice2 = sales_2017_up[[\"ProductId\", \"UnitPrice\"]].drop_duplicates()\n",
    "unitprice2.sort_values(\"UnitPrice\")"
   ]
  },
  {
   "cell_type": "markdown",
   "id": "c75eb47e",
   "metadata": {},
   "source": [
    "Analyzing the produduct unit prices in 2017, we can conclude that:\n",
    "\n",
    "1. The cheapest product is \"245\", costing 0.0175.\n",
    "\n",
    "2. The most expensive product is the \"885\", costing 21.1575."
   ]
  },
  {
   "cell_type": "markdown",
   "id": "fd3c344f",
   "metadata": {},
   "source": [
    "#### 6.3 Discovering the most and least profitable product of the year 2017"
   ]
  },
  {
   "cell_type": "markdown",
   "id": "c7e979b3",
   "metadata": {},
   "source": [
    "#### Grouping by Quantity and Total_Sales and saving it in the variable product_sales_2017"
   ]
  },
  {
   "cell_type": "code",
   "execution_count": 47,
   "id": "0a457901",
   "metadata": {},
   "outputs": [],
   "source": [
    "product_sales_2017 = sales_2017.groupby('ProductId').agg({'Quantity': 'sum', 'Total_Sales': 'sum'})"
   ]
  },
  {
   "cell_type": "markdown",
   "id": "41757734",
   "metadata": {},
   "source": [
    "#### Sorting by Total Sales"
   ]
  },
  {
   "cell_type": "code",
   "execution_count": 49,
   "id": "db6cf9bb",
   "metadata": {},
   "outputs": [],
   "source": [
    "product_sales_2017_TS = product_sales_2017.sort_values('Total_Sales')"
   ]
  },
  {
   "cell_type": "markdown",
   "id": "2ca9f9c8",
   "metadata": {},
   "source": [
    "#### The 5 most and least profitable products"
   ]
  },
  {
   "cell_type": "code",
   "execution_count": 54,
   "id": "dfe3b4f1",
   "metadata": {
    "scrolled": false
   },
   "outputs": [
    {
     "data": {
      "text/html": [
       "<div>\n",
       "<style scoped>\n",
       "    .dataframe tbody tr th:only-of-type {\n",
       "        vertical-align: middle;\n",
       "    }\n",
       "\n",
       "    .dataframe tbody tr th {\n",
       "        vertical-align: top;\n",
       "    }\n",
       "\n",
       "    .dataframe thead th {\n",
       "        text-align: right;\n",
       "    }\n",
       "</style>\n",
       "<table border=\"1\" class=\"dataframe\">\n",
       "  <thead>\n",
       "    <tr style=\"text-align: right;\">\n",
       "      <th></th>\n",
       "      <th>Quantity</th>\n",
       "      <th>Total_Sales</th>\n",
       "    </tr>\n",
       "    <tr>\n",
       "      <th>ProductId</th>\n",
       "      <th></th>\n",
       "      <th></th>\n",
       "    </tr>\n",
       "  </thead>\n",
       "  <tbody>\n",
       "    <tr>\n",
       "      <th>245</th>\n",
       "      <td>2158</td>\n",
       "      <td>37.7650</td>\n",
       "    </tr>\n",
       "    <tr>\n",
       "      <th>895</th>\n",
       "      <td>2105</td>\n",
       "      <td>73.6750</td>\n",
       "    </tr>\n",
       "    <tr>\n",
       "      <th>671</th>\n",
       "      <td>2251</td>\n",
       "      <td>78.7850</td>\n",
       "    </tr>\n",
       "    <tr>\n",
       "      <th>988</th>\n",
       "      <td>2346</td>\n",
       "      <td>82.1100</td>\n",
       "    </tr>\n",
       "    <tr>\n",
       "      <th>471</th>\n",
       "      <td>2451</td>\n",
       "      <td>85.7850</td>\n",
       "    </tr>\n",
       "    <tr>\n",
       "      <th>...</th>\n",
       "      <td>...</td>\n",
       "      <td>...</td>\n",
       "    </tr>\n",
       "    <tr>\n",
       "      <th>805</th>\n",
       "      <td>3041</td>\n",
       "      <td>44649.4825</td>\n",
       "    </tr>\n",
       "    <tr>\n",
       "      <th>885</th>\n",
       "      <td>2165</td>\n",
       "      <td>45805.9875</td>\n",
       "    </tr>\n",
       "    <tr>\n",
       "      <th>89</th>\n",
       "      <td>2877</td>\n",
       "      <td>48434.2950</td>\n",
       "    </tr>\n",
       "    <tr>\n",
       "      <th>248</th>\n",
       "      <td>2757</td>\n",
       "      <td>58138.2375</td>\n",
       "    </tr>\n",
       "    <tr>\n",
       "      <th>117</th>\n",
       "      <td>3049</td>\n",
       "      <td>60774.1925</td>\n",
       "    </tr>\n",
       "  </tbody>\n",
       "</table>\n",
       "<p>1000 rows × 2 columns</p>\n",
       "</div>"
      ],
      "text/plain": [
       "           Quantity  Total_Sales\n",
       "ProductId                       \n",
       "245            2158      37.7650\n",
       "895            2105      73.6750\n",
       "671            2251      78.7850\n",
       "988            2346      82.1100\n",
       "471            2451      85.7850\n",
       "...             ...          ...\n",
       "805            3041   44649.4825\n",
       "885            2165   45805.9875\n",
       "89             2877   48434.2950\n",
       "248            2757   58138.2375\n",
       "117            3049   60774.1925\n",
       "\n",
       "[1000 rows x 2 columns]"
      ]
     },
     "metadata": {},
     "output_type": "display_data"
    }
   ],
   "source": [
    "display(product_sales_2017_TS)"
   ]
  },
  {
   "cell_type": "markdown",
   "id": "c4dbeeb6",
   "metadata": {},
   "source": [
    "Analyzing the grouping created, we can conclude that:\n",
    "\n",
    "1. The most profitable product of the year 2017 is “117”, with a total sales value of 60774.1925\n",
    "2. The least profitable product of the year 2017 is the “245”, with a total sales value of 37.7650"
   ]
  },
  {
   "cell_type": "markdown",
   "id": "301e365c",
   "metadata": {},
   "source": [
    "#### 6.4 Discovering the most and least sold product of 2017"
   ]
  },
  {
   "cell_type": "markdown",
   "id": "827e551e",
   "metadata": {},
   "source": [
    "#### Sorting by Quantity Sold"
   ]
  },
  {
   "cell_type": "code",
   "execution_count": 63,
   "id": "860b1b9e",
   "metadata": {},
   "outputs": [],
   "source": [
    "product_sales_2017_Q = product_sales_2017.sort_values('Quantity')"
   ]
  },
  {
   "cell_type": "code",
   "execution_count": 64,
   "id": "379dbd54",
   "metadata": {
    "scrolled": true
   },
   "outputs": [
    {
     "data": {
      "text/html": [
       "<div>\n",
       "<style scoped>\n",
       "    .dataframe tbody tr th:only-of-type {\n",
       "        vertical-align: middle;\n",
       "    }\n",
       "\n",
       "    .dataframe tbody tr th {\n",
       "        vertical-align: top;\n",
       "    }\n",
       "\n",
       "    .dataframe thead th {\n",
       "        text-align: right;\n",
       "    }\n",
       "</style>\n",
       "<table border=\"1\" class=\"dataframe\">\n",
       "  <thead>\n",
       "    <tr style=\"text-align: right;\">\n",
       "      <th></th>\n",
       "      <th>Quantity</th>\n",
       "      <th>Total_Sales</th>\n",
       "    </tr>\n",
       "    <tr>\n",
       "      <th>ProductId</th>\n",
       "      <th></th>\n",
       "      <th></th>\n",
       "    </tr>\n",
       "  </thead>\n",
       "  <tbody>\n",
       "    <tr>\n",
       "      <th>318</th>\n",
       "      <td>1375</td>\n",
       "      <td>1540.0000</td>\n",
       "    </tr>\n",
       "    <tr>\n",
       "      <th>948</th>\n",
       "      <td>1472</td>\n",
       "      <td>1932.0000</td>\n",
       "    </tr>\n",
       "    <tr>\n",
       "      <th>353</th>\n",
       "      <td>1488</td>\n",
       "      <td>7551.6000</td>\n",
       "    </tr>\n",
       "    <tr>\n",
       "      <th>235</th>\n",
       "      <td>1501</td>\n",
       "      <td>472.8150</td>\n",
       "    </tr>\n",
       "    <tr>\n",
       "      <th>927</th>\n",
       "      <td>1510</td>\n",
       "      <td>4333.7000</td>\n",
       "    </tr>\n",
       "    <tr>\n",
       "      <th>...</th>\n",
       "      <td>...</td>\n",
       "      <td>...</td>\n",
       "    </tr>\n",
       "    <tr>\n",
       "      <th>9</th>\n",
       "      <td>3596</td>\n",
       "      <td>14662.6900</td>\n",
       "    </tr>\n",
       "    <tr>\n",
       "      <th>826</th>\n",
       "      <td>3612</td>\n",
       "      <td>22818.8100</td>\n",
       "    </tr>\n",
       "    <tr>\n",
       "      <th>586</th>\n",
       "      <td>3749</td>\n",
       "      <td>26439.8225</td>\n",
       "    </tr>\n",
       "    <tr>\n",
       "      <th>479</th>\n",
       "      <td>3758</td>\n",
       "      <td>3945.9000</td>\n",
       "    </tr>\n",
       "    <tr>\n",
       "      <th>696</th>\n",
       "      <td>4158</td>\n",
       "      <td>9459.4500</td>\n",
       "    </tr>\n",
       "  </tbody>\n",
       "</table>\n",
       "<p>1000 rows × 2 columns</p>\n",
       "</div>"
      ],
      "text/plain": [
       "           Quantity  Total_Sales\n",
       "ProductId                       \n",
       "318            1375    1540.0000\n",
       "948            1472    1932.0000\n",
       "353            1488    7551.6000\n",
       "235            1501     472.8150\n",
       "927            1510    4333.7000\n",
       "...             ...          ...\n",
       "9              3596   14662.6900\n",
       "826            3612   22818.8100\n",
       "586            3749   26439.8225\n",
       "479            3758    3945.9000\n",
       "696            4158    9459.4500\n",
       "\n",
       "[1000 rows x 2 columns]"
      ]
     },
     "metadata": {},
     "output_type": "display_data"
    }
   ],
   "source": [
    "display(product_sales_2017_Q)"
   ]
  },
  {
   "cell_type": "markdown",
   "id": "e9b5690b",
   "metadata": {},
   "source": [
    "Analyzing the grouping created, we can conclude that:\n",
    "\n",
    "1. The best-selling product of 2017 is “696”, with the amount of 4158 total products sold.\n",
    "2. The least sold product in 2017 is “318”, with the amount of 1375 total products sold."
   ]
  },
  {
   "cell_type": "markdown",
   "id": "7a620226",
   "metadata": {},
   "source": [
    "#### 6.5 Grouping Sales by Store in 2017"
   ]
  },
  {
   "cell_type": "code",
   "execution_count": 70,
   "id": "9be7371e",
   "metadata": {},
   "outputs": [],
   "source": [
    "store_sales_2017 = sales_2017.groupby('StoreId').agg({'Total_Sales': 'sum'})"
   ]
  },
  {
   "cell_type": "code",
   "execution_count": 71,
   "id": "4224739e",
   "metadata": {},
   "outputs": [
    {
     "data": {
      "text/plain": [
       "(34, 1)"
      ]
     },
     "execution_count": 71,
     "metadata": {},
     "output_type": "execute_result"
    }
   ],
   "source": [
    "store_sales_2017.shape"
   ]
  },
  {
   "cell_type": "markdown",
   "id": "dbf00a4c",
   "metadata": {},
   "source": [
    "#### Ordenando por Vendas por Loja"
   ]
  },
  {
   "cell_type": "code",
   "execution_count": 72,
   "id": "a30c9a82",
   "metadata": {},
   "outputs": [],
   "source": [
    "store_sales_2017 = store_sales_2017.sort_values('Total_Sales')"
   ]
  },
  {
   "cell_type": "code",
   "execution_count": 74,
   "id": "aeaf8611",
   "metadata": {},
   "outputs": [
    {
     "data": {
      "text/html": [
       "<div>\n",
       "<style scoped>\n",
       "    .dataframe tbody tr th:only-of-type {\n",
       "        vertical-align: middle;\n",
       "    }\n",
       "\n",
       "    .dataframe tbody tr th {\n",
       "        vertical-align: top;\n",
       "    }\n",
       "\n",
       "    .dataframe thead th {\n",
       "        text-align: right;\n",
       "    }\n",
       "</style>\n",
       "<table border=\"1\" class=\"dataframe\">\n",
       "  <thead>\n",
       "    <tr style=\"text-align: right;\">\n",
       "      <th></th>\n",
       "      <th>Total_Sales</th>\n",
       "    </tr>\n",
       "    <tr>\n",
       "      <th>StoreId</th>\n",
       "      <th></th>\n",
       "    </tr>\n",
       "  </thead>\n",
       "  <tbody>\n",
       "    <tr>\n",
       "      <th>21791</th>\n",
       "      <td>224123.3400</td>\n",
       "    </tr>\n",
       "    <tr>\n",
       "      <th>84029</th>\n",
       "      <td>232017.1000</td>\n",
       "    </tr>\n",
       "    <tr>\n",
       "      <th>22726</th>\n",
       "      <td>233693.7750</td>\n",
       "    </tr>\n",
       "    <tr>\n",
       "      <th>48187</th>\n",
       "      <td>235589.0600</td>\n",
       "    </tr>\n",
       "    <tr>\n",
       "      <th>22912</th>\n",
       "      <td>238157.9725</td>\n",
       "    </tr>\n",
       "    <tr>\n",
       "      <th>84406</th>\n",
       "      <td>238609.8750</td>\n",
       "    </tr>\n",
       "    <tr>\n",
       "      <th>22727</th>\n",
       "      <td>238618.8175</td>\n",
       "    </tr>\n",
       "    <tr>\n",
       "      <th>84969</th>\n",
       "      <td>240660.5425</td>\n",
       "    </tr>\n",
       "    <tr>\n",
       "      <th>22310</th>\n",
       "      <td>241711.8725</td>\n",
       "    </tr>\n",
       "    <tr>\n",
       "      <th>22622</th>\n",
       "      <td>241862.9150</td>\n",
       "    </tr>\n",
       "    <tr>\n",
       "      <th>21883</th>\n",
       "      <td>242046.1575</td>\n",
       "    </tr>\n",
       "    <tr>\n",
       "      <th>21754</th>\n",
       "      <td>242253.8300</td>\n",
       "    </tr>\n",
       "    <tr>\n",
       "      <th>21756</th>\n",
       "      <td>242447.1525</td>\n",
       "    </tr>\n",
       "    <tr>\n",
       "      <th>21035</th>\n",
       "      <td>242975.6000</td>\n",
       "    </tr>\n",
       "    <tr>\n",
       "      <th>21724</th>\n",
       "      <td>243122.8975</td>\n",
       "    </tr>\n",
       "    <tr>\n",
       "      <th>22728</th>\n",
       "      <td>244310.7975</td>\n",
       "    </tr>\n",
       "    <tr>\n",
       "      <th>10002</th>\n",
       "      <td>244897.5375</td>\n",
       "    </tr>\n",
       "    <tr>\n",
       "      <th>22633</th>\n",
       "      <td>245154.1575</td>\n",
       "    </tr>\n",
       "    <tr>\n",
       "      <th>85123</th>\n",
       "      <td>245720.4575</td>\n",
       "    </tr>\n",
       "    <tr>\n",
       "      <th>22745</th>\n",
       "      <td>246020.3550</td>\n",
       "    </tr>\n",
       "    <tr>\n",
       "      <th>22752</th>\n",
       "      <td>247007.6525</td>\n",
       "    </tr>\n",
       "    <tr>\n",
       "      <th>22960</th>\n",
       "      <td>247053.6600</td>\n",
       "    </tr>\n",
       "    <tr>\n",
       "      <th>21730</th>\n",
       "      <td>247978.5875</td>\n",
       "    </tr>\n",
       "    <tr>\n",
       "      <th>71053</th>\n",
       "      <td>250631.9375</td>\n",
       "    </tr>\n",
       "    <tr>\n",
       "      <th>22623</th>\n",
       "      <td>252504.6125</td>\n",
       "    </tr>\n",
       "    <tr>\n",
       "      <th>22913</th>\n",
       "      <td>252853.6150</td>\n",
       "    </tr>\n",
       "    <tr>\n",
       "      <th>22748</th>\n",
       "      <td>253212.8375</td>\n",
       "    </tr>\n",
       "    <tr>\n",
       "      <th>22914</th>\n",
       "      <td>253355.7425</td>\n",
       "    </tr>\n",
       "    <tr>\n",
       "      <th>37444</th>\n",
       "      <td>253653.4350</td>\n",
       "    </tr>\n",
       "    <tr>\n",
       "      <th>21755</th>\n",
       "      <td>254209.5500</td>\n",
       "    </tr>\n",
       "    <tr>\n",
       "      <th>84879</th>\n",
       "      <td>255107.5625</td>\n",
       "    </tr>\n",
       "    <tr>\n",
       "      <th>22632</th>\n",
       "      <td>261807.1925</td>\n",
       "    </tr>\n",
       "    <tr>\n",
       "      <th>21777</th>\n",
       "      <td>265439.3000</td>\n",
       "    </tr>\n",
       "    <tr>\n",
       "      <th>22749</th>\n",
       "      <td>266215.5475</td>\n",
       "    </tr>\n",
       "  </tbody>\n",
       "</table>\n",
       "</div>"
      ],
      "text/plain": [
       "         Total_Sales\n",
       "StoreId             \n",
       "21791    224123.3400\n",
       "84029    232017.1000\n",
       "22726    233693.7750\n",
       "48187    235589.0600\n",
       "22912    238157.9725\n",
       "84406    238609.8750\n",
       "22727    238618.8175\n",
       "84969    240660.5425\n",
       "22310    241711.8725\n",
       "22622    241862.9150\n",
       "21883    242046.1575\n",
       "21754    242253.8300\n",
       "21756    242447.1525\n",
       "21035    242975.6000\n",
       "21724    243122.8975\n",
       "22728    244310.7975\n",
       "10002    244897.5375\n",
       "22633    245154.1575\n",
       "85123    245720.4575\n",
       "22745    246020.3550\n",
       "22752    247007.6525\n",
       "22960    247053.6600\n",
       "21730    247978.5875\n",
       "71053    250631.9375\n",
       "22623    252504.6125\n",
       "22913    252853.6150\n",
       "22748    253212.8375\n",
       "22914    253355.7425\n",
       "37444    253653.4350\n",
       "21755    254209.5500\n",
       "84879    255107.5625\n",
       "22632    261807.1925\n",
       "21777    265439.3000\n",
       "22749    266215.5475"
      ]
     },
     "metadata": {},
     "output_type": "display_data"
    }
   ],
   "source": [
    "display(store_sales_2017)"
   ]
  },
  {
   "cell_type": "markdown",
   "id": "ad631f77",
   "metadata": {},
   "source": [
    "Analyzing the grouping created, we can conclude that:\n",
    "\n",
    "1. The store that sold the most in 2017 was '22749', with a total of 266215.5475 sales.\n",
    "2. The store that sold the least in 2017 was '21791', with a total of 224123.3400 sales."
   ]
  }
 ],
 "metadata": {
  "kernelspec": {
   "display_name": "Python 3 (ipykernel)",
   "language": "python",
   "name": "python3"
  },
  "language_info": {
   "codemirror_mode": {
    "name": "ipython",
    "version": 3
   },
   "file_extension": ".py",
   "mimetype": "text/x-python",
   "name": "python",
   "nbconvert_exporter": "python",
   "pygments_lexer": "ipython3",
   "version": "3.11.4"
  }
 },
 "nbformat": 4,
 "nbformat_minor": 5
}
